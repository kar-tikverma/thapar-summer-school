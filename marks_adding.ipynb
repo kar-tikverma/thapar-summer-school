{
  "nbformat": 4,
  "nbformat_minor": 0,
  "metadata": {
    "colab": {
      "provenance": [],
      "authorship_tag": "ABX9TyOO8dQfqZhqovY2dY9PRqHE",
      "include_colab_link": true
    },
    "kernelspec": {
      "name": "python3",
      "display_name": "Python 3"
    },
    "language_info": {
      "name": "python"
    }
  },
  "cells": [
    {
      "cell_type": "markdown",
      "metadata": {
        "id": "view-in-github",
        "colab_type": "text"
      },
      "source": [
        "<a href=\"https://colab.research.google.com/github/kar-tikverma/thapar-summer-school/blob/main/marks_adding.ipynb\" target=\"_parent\"><img src=\"https://colab.research.google.com/assets/colab-badge.svg\" alt=\"Open In Colab\"/></a>"
      ]
    },
    {
      "cell_type": "markdown",
      "source": [
        "#Marks Adding"
      ],
      "metadata": {
        "id": "3CH8bP5QqFCe"
      }
    },
    {
      "cell_type": "code",
      "source": [
        "with open('marks.csv', 'r') as f:\n",
        "    data = f.readlines()\n",
        "    roll_no = []\n",
        "    marks = []\n",
        "    for i in range(1, len(data)):\n",
        "        roll_no.append(int(data[i].split(',')[0]))\n",
        "        marks.append(int(data[i].split(',')[1]))"
      ],
      "metadata": {
        "id": "PX2PRH2EH4Bw"
      },
      "execution_count": 29,
      "outputs": []
    },
    {
      "cell_type": "code",
      "source": [
        "data = {}\n",
        "for i in range(len(roll_no)):\n",
        "    data[roll_no[i]] = data.get(roll_no[i], 0) + marks[i]"
      ],
      "metadata": {
        "id": "eEnB0-QuJOrd"
      },
      "execution_count": 30,
      "outputs": []
    },
    {
      "cell_type": "code",
      "source": [
        "lst = [str(i) + ',' + str(data[i]) + '\\n' for i in data]"
      ],
      "metadata": {
        "id": "Sz8DKbk0Jgse"
      },
      "execution_count": 31,
      "outputs": []
    },
    {
      "cell_type": "code",
      "source": [
        "with open('added_marks.csv', 'w') as f:\n",
        "    f.write('Roll_No,Marks\\n')\n",
        "    f.writelines(lst)"
      ],
      "metadata": {
        "id": "GS4xnT5IJ6XY"
      },
      "execution_count": 32,
      "outputs": []
    }
  ]
}